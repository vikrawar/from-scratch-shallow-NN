{
 "cells": [
  {
   "cell_type": "markdown",
   "id": "beeecd75-75b0-4705-aefa-791c04102bf9",
   "metadata": {},
   "source": [
    "# 2 Layer Neural Network from Scratch \n",
    "---\n",
    "#### In this notebook, we will be building a 2 layer neural network (a neural network with one hidden layer), completely from scratch using just NumPy. \n",
    "#### The goal of this notebook is to really understand how the data flows through the neural network, how the weights and biases get updated, and how the matrix multiplications transform the inputs and activations in a neural network.\n",
    "---\n",
    "This notebook assumes you are familiar with logistic regression, Matrix multiplication and Gradient Descent, which I discussed in earlier notebook [Logistic Regression from Scratch](https://github.com/vikrawar/from-scratch-logistic-regression)"
   ]
  },
  {
   "cell_type": "markdown",
   "id": "ec0ab793-ec41-4303-8722-fc64e0df9332",
   "metadata": {},
   "source": [
    "## Generating training data\n",
    "\n",
    "Let's say we have 10 training examples, each having 4 features. \n",
    "We'll stack them as column vectors in a matrix `X`. \n",
    "Their corresponding binary labels will be in a horizontal array `Y`. <br>\n",
    "\n",
    "X:\n",
    "\\begin{bmatrix}\n",
    "\\vert & \\vert & \\vert & \\vert & \\vert & \\vert & \\vert & \\vert & \\vert & \\vert \\\\\n",
    "x_1 & x_2 & x_3 & x_4 & x_5 & x_6 & x_7 & x_8 & x_9 & x_10 \\\\\n",
    "\\vert & \\vert & \\vert & \\vert & \\vert & \\vert & \\vert & \\vert & \\vert & \\vert \\\\\n",
    "\\end{bmatrix}\n",
    "\n",
    "Y:\n",
    "\\begin{bmatrix} y_1 & y_2 & y_3 & y_4 & y_5 & y_6 & y_7 & y_8 & y_9 & y_10 \\end{bmatrix}\n",
    "\n",
    "\n",
    "Note on notation: <br>\n",
    "Don't get hung up on the notation and terminology. \n",
    "Some people prefer to have the training data stacked as rows. \n",
    "At the end of the day, it doesn't matter as long as the Matrix multiplications work out."
   ]
  },
  {
   "cell_type": "code",
   "execution_count": 1,
   "id": "34accce5-8516-4c41-bea4-57eaf8e72af4",
   "metadata": {},
   "outputs": [
    {
     "data": {
      "text/plain": [
       "(array([[0.1 , 0.2 , 0.9 , 0.8 , 0.9 , 0.4 , 0.4 , 0.6 , 0.7 , 0.32],\n",
       "        [0.3 , 0.2 , 0.7 , 0.8 , 0.8 , 0.5 , 0.3 , 0.5 , 0.6 , 0.33],\n",
       "        [0.9 , 0.7 , 0.3 , 0.1 , 0.15, 0.3 , 0.5 , 0.3 , 0.2 , 0.88],\n",
       "        [0.7 , 0.7 , 0.1 , 0.1 , 0.19, 0.01, 0.7 , 0.4 , 0.49, 0.55]]),\n",
       " array([1., 1., 0., 0., 0., 1., 1., 0., 0., 1.]))"
      ]
     },
     "execution_count": 1,
     "metadata": {},
     "output_type": "execute_result"
    }
   ],
   "source": [
    "import numpy as np\n",
    "\n",
    "X = np.array([\n",
    "    [0.1, 0.2, 0.9, 0.8, 0.9, 0.4, 0.4, 0.6, 0.7, 0.32],\n",
    "    [0.3, 0.2, 0.7, 0.8, 0.8, 0.5, 0.3, 0.5, 0.6, 0.33], \n",
    "    [0.9, 0.7, 0.3, 0.1, 0.15, 0.3, 0.5, 0.3, 0.2, 0.88],\n",
    "    [0.7, 0.7, 0.1, 0.1, 0.19, 0.01, 0.7, 0.4, 0.49, 0.55],\n",
    "])\n",
    "\n",
    "Y = np.array([1., 1., 0., 0., 0., 1., 1., 0., 0., 1.])\n",
    "\n",
    "X, Y"
   ]
  },
  {
   "cell_type": "markdown",
   "id": "d5faf60a-2d9a-4454-b7ac-b015f466a3b5",
   "metadata": {},
   "source": [
    "## Understanding the structure of our Neural Network \n",
    "\n",
    "- Input layer: 4 nodes (as our inputs have 4 features)\n",
    "- Hidden layer: 2 nodes\n",
    "- Output layer: 1 node (as this is binary classification)\n",
    "\n",
    "Our neural network will be fully connected. This means each neuron in a layer is connected to (read: influences) every neuron in the next layer."
   ]
  },
  {
   "cell_type": "code",
   "execution_count": 2,
   "id": "9dea8413-6748-46a2-8306-c6d9ad7d9e55",
   "metadata": {},
   "outputs": [
    {
     "data": {
      "image/png": "[encoded data removed]",
      "text/plain": [
       "<Figure size 800x500 with 1 Axes>"
      ]
     },
     "metadata": {},
     "output_type": "display_data"
    }
   ],
   "source": [
    "# Skip this code cell\n",
    "import matplotlib.pyplot as plt\n",
    "\n",
    "def draw_neural_net(ax, layers):\n",
    "    v_spacing = 1.2\n",
    "    h_spacing = 2.5\n",
    "    radius = 0.25\n",
    "    node_coords = []\n",
    "\n",
    "    # Compute coordinates\n",
    "    for i, n_nodes in enumerate(layers):\n",
    "        layer_coords = []\n",
    "        top = (n_nodes - 1) * v_spacing / 2\n",
    "        for j in range(n_nodes):\n",
    "            layer_coords.append((i * h_spacing, top - j * v_spacing))\n",
    "        node_coords.append(layer_coords)\n",
    "\n",
    "    # Draw edges\n",
    "    for i in range(len(node_coords) - 1):\n",
    "        for (x1, y1) in node_coords[i]:\n",
    "            for (x2, y2) in node_coords[i + 1]:\n",
    "                ax.plot([x1 + radius, x2 - radius], [y1, y2], 'k-', lw=1)\n",
    "\n",
    "    # Draw nodes\n",
    "    for layer in node_coords:\n",
    "        for (x, y) in layer:\n",
    "            circle = plt.Circle((x, y), radius, fill=False, color='black', lw=1.5)\n",
    "            ax.add_patch(circle)\n",
    "\n",
    "    ax.set_aspect('equal')\n",
    "    ax.axis('off')\n",
    "\n",
    "fig, ax = plt.subplots(figsize=(8, 5))\n",
    "draw_neural_net(ax, layers=[4, 2, 1])\n",
    "plt.tight_layout()\n",
    "plt.show()"
   ]
  },
  {
   "cell_type": "markdown",
   "id": "955db45e-1bee-4132-93b5-34e2b9338a59",
   "metadata": {},
   "source": [
    "### Initializing weights and biases\n",
    "\n",
    "We will need two sets of weights and biases for our 2 layer Neural Network. <br>\n",
    "You can think of each connection (line) between two nodes as having a weight. Therefore, the weights matrix connecting the inputs to the hidden layer will have dimension 2x4. Similarly, the weight matrix connecting the hidden layer to the output layer will have dimensions 1x2. \n",
    "\n",
    "And the number of outputs of a layer (aka activations) will be the number of biases that particular layer will need to have. \n",
    "So, the first bias matrix will have dimensions 1x2, and the second one will be 1x1."
   ]
  },
  {
   "cell_type": "code",
   "execution_count": 3,
   "id": "99b66a45-3d64-4fa4-b2e0-6cfbaee23f8b",
   "metadata": {},
   "outputs": [
    {
     "data": {
      "text/plain": [
       "(array([[ 0.12224835,  0.18465204, -0.27295901, -0.33322395],\n",
       "        [ 0.11280868,  0.07313117,  0.33981622, -0.3146185 ]]),\n",
       " array([[-0.47820851],\n",
       "        [-0.23881715]]))"
      ]
     },
     "execution_count": 3,
     "metadata": {},
     "output_type": "execute_result"
    }
   ],
   "source": [
    "W1, b1 = np.random.random((2, 4)) - 0.5, np.random.random((2, 1)) - 0.5\n",
    "W1, b1"
   ]
  },
  {
   "cell_type": "code",
   "execution_count": 4,
   "id": "662a4dbd-c76b-4ae5-93f5-00351c54bb0a",
   "metadata": {},
   "outputs": [
    {
     "data": {
      "text/plain": [
       "array([[-0.88950794, -0.8411565 , -0.35413866, -0.29330649, -0.32471976,\n",
       "        -0.42220309, -0.74364983, -0.52771076, -0.49971498, -0.80163097],\n",
       "       [-0.11999529, -0.18399078, -0.0156145 , -0.0875455 , -0.08758948,\n",
       "        -0.05832941, -0.22207917, -0.15846889, -0.20217219, -0.05258699]])"
      ]
     },
     "execution_count": 4,
     "metadata": {},
     "output_type": "execute_result"
    }
   ],
   "source": [
    "Z1 = W1 @ X + b1\n",
    "Z1"
   ]
  },
  {
   "cell_type": "code",
   "execution_count": 5,
   "id": "227ee323-5eee-468a-9953-161da14d2c5a",
   "metadata": {},
   "outputs": [],
   "source": [
    "def sigmoid(x): \n",
    "    return 1 / (1 + np.exp(-x))"
   ]
  },
  {
   "cell_type": "code",
   "execution_count": 6,
   "id": "19c4c098-0611-4469-a78b-a109f1c8d922",
   "metadata": {},
   "outputs": [
    {
     "data": {
      "text/plain": [
       "array([[0.29121138, 0.30129127, 0.41237917, 0.42719458, 0.41952594,\n",
       "        0.39598969, 0.32220654, 0.37105097, 0.37760765, 0.30967675],\n",
       "       [0.47003712, 0.45413163, 0.49609645, 0.47812759, 0.47811662,\n",
       "        0.48542178, 0.44470727, 0.46046548, 0.44962841, 0.48685628]])"
      ]
     },
     "execution_count": 6,
     "metadata": {},
     "output_type": "execute_result"
    }
   ],
   "source": [
    "A1 = sigmoid(Z1)\n",
    "A1"
   ]
  },
  {
   "cell_type": "code",
   "execution_count": 7,
   "id": "674835a3-3177-451f-a202-265627264f6e",
   "metadata": {},
   "outputs": [
    {
     "data": {
      "text/plain": [
       "(array([[ 0.44282902, -0.02181684]]), array([[-0.27406987]]))"
      ]
     },
     "execution_count": 7,
     "metadata": {},
     "output_type": "execute_result"
    }
   ],
   "source": [
    "W2, b2 = np.random.random((1, 2)) - 0.5, np.random.random((1, 1)) - 0.5\n",
    "W2, b2"
   ]
  },
  {
   "cell_type": "code",
   "execution_count": 8,
   "id": "e2ff926b-606f-4423-a2ae-b078affd4332",
   "metadata": {},
   "outputs": [
    {
     "data": {
      "text/plain": [
       "array([[0.46123601, 0.46243167, 0.47445235, 0.47618629, 0.47533937,\n",
       "        0.47270105, 0.464786  , 0.47008486, 0.47086711, 0.46317737]])"
      ]
     },
     "execution_count": 8,
     "metadata": {},
     "output_type": "execute_result"
    }
   ],
   "source": [
    "Z2 = W2 @ A1 + b2\n",
    "A2 = sigmoid(Z2)\n",
    "A2"
   ]
  },
  {
   "cell_type": "markdown",
   "id": "840a91e8-3fd9-4708-baf6-c5dc7ce923d0",
   "metadata": {},
   "source": [
    "## Loss and Cost"
   ]
  },
  {
   "cell_type": "code",
   "execution_count": 9,
   "id": "05467607-5349-4565-9b60-e12ed2a9a1ed",
   "metadata": {},
   "outputs": [],
   "source": [
    "def loss(A, Y):\n",
    "    # A = predicted probabilities\n",
    "    # Y = true labels\n",
    "\n",
    "    # 0.01 is added to prevent accidental calculation of log(0)\n",
    "    return -(Y*np.log(A+0.01) + (1-Y)*np.log((1-A)+0.01))\n",
    "\n",
    "def cost(loss): \n",
    "    return np.average(loss)"
   ]
  },
  {
   "cell_type": "code",
   "execution_count": 10,
   "id": "011d0b0d-f871-4034-81a6-3ba784200e4f",
   "metadata": {},
   "outputs": [
    {
     "data": {
      "text/plain": [
       "array([[0.75239623, 0.74986216, 0.62446541, 0.62770836, 0.62612308,\n",
       "        0.72835777, 0.7448911 , 0.61634331, 0.61779318, 0.74828498]])"
      ]
     },
     "execution_count": 10,
     "metadata": {},
     "output_type": "execute_result"
    }
   ],
   "source": [
    "loss(A2, Y)"
   ]
  },
  {
   "cell_type": "code",
   "execution_count": 11,
   "id": "8afff0ba-311b-41a0-811d-3543a41ad818",
   "metadata": {},
   "outputs": [
    {
     "data": {
      "text/plain": [
       "0.683622557508922"
      ]
     },
     "execution_count": 11,
     "metadata": {},
     "output_type": "execute_result"
    }
   ],
   "source": [
    "cost(loss(A2, Y))"
   ]
  },
  {
   "cell_type": "markdown",
   "id": "32ad58e2-227c-4895-b0fe-54a5c183b1a5",
   "metadata": {},
   "source": [
    "## Learning\n",
    "\n",
    "We will now train the neural network using backpropagation. This involves computing the gradient of the cost with respect to each parameter and updating them via gradient descent."
   ]
  },
  {
   "cell_type": "code",
   "execution_count": 12,
   "id": "0a27ef7e-d2c7-4917-8410-6f32d70a43a2",
   "metadata": {},
   "outputs": [
    {
     "name": "stdout",
     "output_type": "stream",
     "text": [
      "epoch=0\n",
      "the_cost=2.306360487991625\n",
      "=====\n",
      "epoch=1\n",
      "the_cost=2.2990198885982864\n",
      "=====\n",
      "epoch=2\n",
      "the_cost=2.2919546549893197\n",
      "=====\n",
      "epoch=3\n",
      "the_cost=2.2818819595330266\n",
      "=====\n",
      "epoch=4\n",
      "the_cost=2.265829354628262\n",
      "=====\n",
      "epoch=5\n",
      "the_cost=2.239640059137911\n",
      "=====\n",
      "epoch=6\n",
      "the_cost=2.1975082201158633\n",
      "=====\n",
      "epoch=7\n",
      "the_cost=2.1325792167081703\n",
      "=====\n",
      "epoch=8\n",
      "the_cost=2.039653269998668\n",
      "=====\n",
      "epoch=9\n",
      "the_cost=1.9201681727277014\n",
      "=====\n",
      "epoch=10\n",
      "the_cost=1.7850582169451599\n",
      "=====\n",
      "epoch=11\n",
      "the_cost=1.6497292372053693\n",
      "=====\n",
      "epoch=12\n",
      "the_cost=1.5255491793355502\n",
      "=====\n",
      "epoch=13\n",
      "the_cost=1.4170857672700479\n",
      "=====\n",
      "epoch=14\n",
      "the_cost=1.3243868384348192\n",
      "=====\n",
      "epoch=15\n",
      "the_cost=1.2456181809695195\n",
      "=====\n",
      "epoch=16\n",
      "the_cost=1.1785225973155191\n",
      "=====\n",
      "epoch=17\n",
      "the_cost=1.1209992031414184\n",
      "=====\n",
      "epoch=18\n",
      "the_cost=1.0712667227728683\n",
      "=====\n",
      "epoch=19\n",
      "the_cost=1.027867826748566\n",
      "=====\n",
      "epoch=20\n",
      "the_cost=0.9896243119452262\n",
      "=====\n",
      "epoch=21\n",
      "the_cost=0.955584327861442\n",
      "=====\n",
      "epoch=22\n",
      "the_cost=0.9249751943856236\n",
      "=====\n",
      "epoch=23\n",
      "the_cost=0.8971650249230757\n",
      "=====\n",
      "epoch=24\n",
      "the_cost=0.871632830161896\n",
      "=====\n"
     ]
    }
   ],
   "source": [
    "costs = []\n",
    "\n",
    "for epoch in range(25): \n",
    "\n",
    "    # Forwad pass\n",
    "    Z1 = W1 @ X + b1\n",
    "    A1 = sigmoid(Z1)\n",
    "    Z2 = W2 @ A1 + b2\n",
    "    A2 = sigmoid(Z2)\n",
    "\n",
    "    # Backward pass\n",
    "    dZ2 = A2 - Y\n",
    "    dw2 = dZ2 @ A1.T  # (1x4) @ (4x2) → (1x2)\n",
    "    db2 = dZ2.mean(axis=1, keepdims=True)\n",
    "\n",
    "    dZ1 = (W2.T @ dZ2) * A1 * (1 - A1)\n",
    "    dw1 = dZ1 @ X.T # (2x4) @ (4x2) -> (2x2)\n",
    "    db1 = dZ1.mean(axis=1, keepdims=True)\n",
    "\n",
    "    # Updating the parameters\n",
    "    W1 -= dw1\n",
    "    b1 -= db1\n",
    "    W2 -= dw2\n",
    "    b2 -= db2\n",
    "    \n",
    "    A1 = sigmoid(W1 @ X + b1)\n",
    "    A2 = sigmoid(W2 @ A1 + b2)\n",
    "\n",
    "    # Tracking the cost\n",
    "    the_cost = cost(loss(Y, A2))\n",
    "    costs.append(the_cost)\n",
    "\n",
    "    print(f\"{epoch=}\")\n",
    "    print(f\"{the_cost=}\")\n",
    "    print(\"=====\")"
   ]
  },
  {
   "cell_type": "markdown",
   "id": "900b25b8-73cf-46bd-8731-94f335a191ac",
   "metadata": {},
   "source": [
    "## Plotting the Cost"
   ]
  },
  {
   "cell_type": "code",
   "execution_count": 13,
   "id": "ef467608-2b09-4fbd-a833-7fe724c4f918",
   "metadata": {},
   "outputs": [
    {
     "data": {
      "image/png": "[encoded data removed]",
      "text/plain": [
       "<Figure size 640x480 with 1 Axes>"
      ]
     },
     "metadata": {},
     "output_type": "display_data"
    }
   ],
   "source": [
    "plt.plot(costs)\n",
    "plt.title(\"Cost Over Training Iterations\")\n",
    "plt.xticks(np.arange(0, 25))\n",
    "plt.xlabel(\"Epoch\")\n",
    "plt.ylabel(\"Cost\");"
   ]
  },
  {
   "cell_type": "markdown",
   "id": "9806fc25-d375-4ed6-bf49-bf55127af8c9",
   "metadata": {},
   "source": [
    "It looks like the cost will continue to decrease if we continue training our neural network"
   ]
  },
  {
   "cell_type": "markdown",
   "id": "cf49111f-84b5-4516-a571-09612dffd6e6",
   "metadata": {},
   "source": [
    "### But is our model predicting the data correctly?"
   ]
  },
  {
   "cell_type": "code",
   "execution_count": 14,
   "id": "bce2726b-14e9-4e2a-baa7-345dac3afb79",
   "metadata": {},
   "outputs": [
    {
     "name": "stdout",
     "output_type": "stream",
     "text": [
      "Predictions:\n",
      "[[0.993 0.986 0.206 0.188 0.186 0.453 0.892 0.375 0.262 0.983]]\n",
      "Actual:\n",
      "[1. 1. 0. 0. 0. 1. 1. 0. 0. 1.]\n"
     ]
    }
   ],
   "source": [
    "print(\"Predictions:\")\n",
    "print(A2.round(3))\n",
    "print(\"Actual:\")\n",
    "print(Y)"
   ]
  },
  {
   "cell_type": "code",
   "execution_count": 15,
   "id": "6e5cb4e4-9a7f-46cc-8f3a-f145a6e4e59b",
   "metadata": {},
   "outputs": [
    {
     "name": "stdout",
     "output_type": "stream",
     "text": [
      "Predicted: [[1 1 0 0 0 0 1 0 0 1]]\n",
      "Actual: [1. 1. 0. 0. 0. 1. 1. 0. 0. 1.]\n"
     ]
    }
   ],
   "source": [
    "preds = np.where(A2 < 0.5, 0, 1)\n",
    "print(f\"Predicted: {preds}\")\n",
    "print(f\"Actual: {Y}\")"
   ]
  },
  {
   "cell_type": "code",
   "execution_count": 16,
   "id": "c8201a5e-992e-4d97-9c6e-b23d05903188",
   "metadata": {},
   "outputs": [
    {
     "name": "stdout",
     "output_type": "stream",
     "text": [
      "Accuracy: 90.0%\n"
     ]
    }
   ],
   "source": [
    "accuracy = (preds == Y).mean() * 100\n",
    "print(f\"Accuracy: {accuracy:.1f}%\")"
   ]
  },
  {
   "cell_type": "markdown",
   "id": "39e0550c-9d2e-4060-94ed-692d5d1ecc30",
   "metadata": {},
   "source": [
    "Looks like our neural network misclassified one label. <br>\n",
    "But keep in mind, we only trained the network for 25 epochs, and the cost was still steadily decreasing. Neural Networks are powerful, and given enough layers and parameters, they can theoretically drive the cost to 0!\n",
    "\n",
    "---"
   ]
  },
  {
   "cell_type": "markdown",
   "id": "a6583fb0-f4be-47c6-8ee4-76d8726d2797",
   "metadata": {},
   "source": [
    "# Wrap-Up\n",
    "\n",
    "In this notebook, we built a **2-layer neural network from scratch** using only NumPy.\n",
    "\n",
    "We explored:\n",
    "- How inputs are transformed layer by layer using weights, biases, and activations\n",
    "- How to implement **backpropagation**\n",
    "- How to update parameters with **gradient descent**\n",
    "- And most importantly, how matrix multiplication works in neural networks\n",
    "\n",
    "\n",
    "We trained our 2-layer Neural Net on a small dataset and achieved 90% accuracy after just 25 epochs. The cost was still decreasing so we could have trained more and improved performance.\n",
    "\n",
    "I hope this exercise deepened your intuition behind how gradients flow through each layer and how weight updates impact learning. Hopefully this also strengthened your understanding of matrix shapes and multiplications and helped build a mental model of how neural networks operate under the hood.\n",
    "\n",
    "---\n",
    "\n",
    "Thanks for following along!  \n",
    "If you found this helpful, consider ⭐️ the repo or sharing it with someone learning deep learning."
   ]
  },
  {
   "cell_type": "code",
   "execution_count": null,
   "id": "b5aee201-ee70-4ecc-8efb-e91ff58b8108",
   "metadata": {},
   "outputs": [],
   "source": []
  }
 ],
 "metadata": {
  "kernelspec": {
   "display_name": "Python 3 (ipykernel)",
   "language": "python",
   "name": "python3"
  },
  "language_info": {
   "codemirror_mode": {
    "name": "ipython",
    "version": 3
   },
   "file_extension": ".py",
   "mimetype": "text/x-python",
   "name": "python",
   "nbconvert_exporter": "python",
   "pygments_lexer": "ipython3",
   "version": "3.10.14"
  }
 },
 "nbformat": 4,
 "nbformat_minor": 5
}
